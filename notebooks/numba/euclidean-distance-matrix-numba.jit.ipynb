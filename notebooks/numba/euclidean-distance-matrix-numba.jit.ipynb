{
 "cells": [
  {
   "cell_type": "markdown",
   "metadata": {},
   "source": [
    "### Using `numba.jit` to speedup the computation of the Euclidean distance matrix \n",
    "\n",
    "In this notebook we implement a function to compute the Euclidean distance matrix using Numba's *just-in-time* compilation decorator. We compare it with the NumPy function we wrote before.\n",
    "\n",
    "We will use two Numba functions here: The decorator ` @numba.jit` and `numba.prange`.\n",
    "\n",
    "<a href=\"https://colab.research.google.com/github/Ziaeemehr/workshop_hpcpy/blob/main/notebooks/numba/euclidean-distance-matrix-numba.jit.ipynb\" target=\"_parent\"><img src=\"https://colab.research.google.com/assets/colab-badge.svg\" alt=\"Open In Colab\"/></a>\n"
   ]
  },
  {
   "cell_type": "markdown",
   "metadata": {},
   "source": [
    "$$\n",
    "d(i, j) = \\sqrt{\\sum_{k=1}^{m} \\left( x_{ik} - y_{jk} \\right)^2}\n",
    "$$"
   ]
  },
  {
   "cell_type": "code",
   "execution_count": 4,
   "metadata": {},
   "outputs": [],
   "source": [
    "import numpy as np\n",
    "import numba\n",
    "\n",
    "numba.set_num_threads(1)"
   ]
  },
  {
   "cell_type": "code",
   "execution_count": 5,
   "metadata": {},
   "outputs": [],
   "source": [
    "@numba.jit(nopython=True, parallel=True)\n",
    "def euclidean_numba1(x, y):\n",
    "    \"\"\"Implementation with numba.\"\"\"\n",
    "\n",
    "    nrows, ncols = x.shape\n",
    "    dist_matrix = np.zeros((nrows, nrows))\n",
    "    for i in range(nrows):\n",
    "        for j in range(nrows):\n",
    "            r = 0.0\n",
    "            for k in numba.prange(ncols):\n",
    "                r += (x[i][k] - y[j][k])**2\n",
    "            dist_matrix[i][j] = r\n",
    "\n",
    "    return dist_matrix\n",
    "\n",
    "\n",
    "@numba.jit(nopython=True, parallel=True)\n",
    "def euclidean_numba2(x, y):\n",
    "    \"\"\"Implementation with numba and numpy.\"\"\"\n",
    "\n",
    "    nrows, ncols = x.shape\n",
    "    dist_matrix = np.zeros((nrows, nrows))\n",
    "    for i in range(nrows):\n",
    "        for j in numba.prange(nrows):\n",
    "            dist_matrix[i][j] = ((x[i] - y[j])**2).sum()\n",
    "\n",
    "    return dist_matrix"
   ]
  },
  {
   "cell_type": "markdown",
   "metadata": {},
   "source": [
    "Let's include here our numpy implementation for comparison."
   ]
  },
  {
   "cell_type": "code",
   "execution_count": 6,
   "metadata": {},
   "outputs": [],
   "source": [
    "def euclidean_numpy(x, y):\n",
    "    \"\"\"Euclidean square distance matrix.\n",
    "    \n",
    "    Inputs:\n",
    "    x: (N, m) numpy array\n",
    "    y: (N, m) numpy array\n",
    "    \n",
    "    Ouput:\n",
    "    (N, N) Euclidean square distance matrix:\n",
    "    r_ij = (x_ij - y_ij)^2\n",
    "    \"\"\"\n",
    "\n",
    "    x2 = np.einsum('ij,ij->i', x, x)[:, np.newaxis]\n",
    "    y2 = np.einsum('ij,ij->i', y, y)[:, np.newaxis].T\n",
    "\n",
    "    xy = np.dot(x, y.T)\n",
    "\n",
    "    return np.abs(x2 + y2 - 2. * xy)"
   ]
  },
  {
   "cell_type": "markdown",
   "metadata": {},
   "source": [
    "### Note\n",
    "Observe that the inner loop, which is a reduction, is done with `numba.prange`. `numba.prange` automatically takes care of data privatization and reductions."
   ]
  },
  {
   "cell_type": "markdown",
   "metadata": {},
   "source": [
    "### Exercise 1\n",
    "Before runing the different functions, could you say which of the two numba implementations would be faster?"
   ]
  },
  {
   "cell_type": "code",
   "execution_count": 7,
   "metadata": {},
   "outputs": [
    {
     "name": "stdout",
     "output_type": "stream",
     "text": [
      "2.8421709430404007e-13\n",
      "2.8421709430404007e-13\n"
     ]
    }
   ],
   "source": [
    "# Let's check that they all give the same result\n",
    "rng = np.random.default_rng()\n",
    "x = 10. * rng.random((100, 10))\n",
    "\n",
    "print(np.abs(euclidean_numpy(x, x) - euclidean_numba1(x, x)).max())\n",
    "print(np.abs(euclidean_numpy(x, x) - euclidean_numba2(x, x)).max())"
   ]
  },
  {
   "cell_type": "markdown",
   "metadata": {},
   "source": [
    "Our Numba implementations can be faster than the NumPy one for a list of small vectors. However, with larger vectors, the NumPy implementation is faster:"
   ]
  },
  {
   "cell_type": "code",
   "execution_count": 19,
   "metadata": {},
   "outputs": [],
   "source": [
    "def timing(nrow, ncols):\n",
    "    \n",
    "    x = 10. * rng.random((nrow, ncols))\n",
    "    print(f\"{'numpy':<10}\", end=\" \")\n",
    "    %timeit euclidean_numpy(x, x)\n",
    "    print(f'{f\"numba1\":<10}', end=\" \")\n",
    "    %timeit euclidean_numba1(x, x)\n",
    "    print(f\"{f'numba2':<10}\", end=\" \")\n",
    "    %timeit euclidean_numba2(x, x)"
   ]
  },
  {
   "cell_type": "code",
   "execution_count": 21,
   "metadata": {},
   "outputs": [
    {
     "name": "stdout",
     "output_type": "stream",
     "text": [
      "numpy      72.1 μs ± 958 ns per loop (mean ± std. dev. of 7 runs, 10,000 loops each)\n",
      "numba1     11 ms ± 298 μs per loop (mean ± std. dev. of 7 runs, 100 loops each)\n",
      "numba2     154 μs ± 3.27 μs per loop (mean ± std. dev. of 7 runs, 10,000 loops each)\n"
     ]
    }
   ],
   "source": [
    "timing(100, 3)"
   ]
  },
  {
   "cell_type": "markdown",
   "metadata": {},
   "source": [
    "In a more realistic case, our NumPy implementation is much faster:"
   ]
  },
  {
   "cell_type": "code",
   "execution_count": 22,
   "metadata": {},
   "outputs": [
    {
     "name": "stdout",
     "output_type": "stream",
     "text": [
      "numpy      75.6 μs ± 3.85 μs per loop (mean ± std. dev. of 7 runs, 10,000 loops each)\n",
      "numba1     11 ms ± 84.4 μs per loop (mean ± std. dev. of 7 runs, 100 loops each)\n",
      "numba2     216 μs ± 807 ns per loop (mean ± std. dev. of 7 runs, 1,000 loops each)\n"
     ]
    }
   ],
   "source": [
    "timing(100, 10)"
   ]
  },
  {
   "cell_type": "code",
   "execution_count": 25,
   "metadata": {},
   "outputs": [],
   "source": [
    "nrows = 5000\n",
    "ncols = 50\n",
    "\n",
    "x = 10. * rng.random((nrows, ncols))\n",
    "\n",
    "%timeit euclidean_numpy(x, x)\n",
    "%timeit euclidean_numba1(x, x)"
   ]
  }
 ],
 "metadata": {
  "language_info": {
   "name": "python"
  }
 },
 "nbformat": 4,
 "nbformat_minor": 4
}
