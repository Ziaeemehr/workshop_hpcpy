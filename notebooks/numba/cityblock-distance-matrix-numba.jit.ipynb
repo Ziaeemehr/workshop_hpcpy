{
 "cells": [
  {
   "cell_type": "markdown",
   "metadata": {},
   "source": [
    "### Using `numba.jit` to speedup the computation of the Cityblock distance matrix \n",
    "\n",
    "\n",
    "In this notebook we implement a function to compute the Cityblock distance matrix using Numba's *just-it-time* compilation decorator. We compare it's performance to that of corresponding non-decorated NumPy function.\n",
    "\n",
    "We will use two Numba functions here. The decorator ` @numba.jit` and `numba.prange`.\n",
    "\n",
    "<a href=\"https://colab.research.google.com/github/Ziaeemehr/workshop_hpcpy/blob/main/notebooks/numba/cityblock-distance-matrix-numba.jit.ipynb\" target=\"_parent\"><img src=\"https://colab.research.google.com/assets/colab-badge.svg\" alt=\"Open In Colab\"/></a>\n"
   ]
  },
  {
   "cell_type": "code",
   "execution_count": 1,
   "metadata": {},
   "outputs": [],
   "source": [
    "import numpy as np\n",
    "import numba"
   ]
  },
  {
   "cell_type": "markdown",
   "metadata": {},
   "source": [
    "The Manhattan (or city block) distance between two vectors $x$ and $y$ is defined as the sum of the absolute differences between their corresponding components.\n",
    "$$\n",
    "d(x_i, y_j) = \\sum_{k=1}^d |x_{ik} - y_{jk}|\n",
    "$$\n",
    "\n"
   ]
  },
  {
   "cell_type": "code",
   "execution_count": 2,
   "metadata": {},
   "outputs": [],
   "source": [
    "numba.set_num_threads(4)"
   ]
  },
  {
   "cell_type": "code",
   "execution_count": 4,
   "metadata": {},
   "outputs": [],
   "source": [
    "def cityblock_python(x, y):\n",
    "    \"\"\"Naive python implementation.\"\"\"\n",
    "\n",
    "    nrow, ncol = x.shape\n",
    "    dist_matrix = np.empty((nrow, nrow))\n",
    "    for i in range(nrow):\n",
    "        for j in range(nrow):\n",
    "            r = 0.0\n",
    "            for k in range(ncol):\n",
    "                r += np.abs(x[i][k] - y[j][k])\n",
    "            dist_matrix[i][j] = r\n",
    "\n",
    "    return dist_matrix\n",
    "\n",
    "\n",
    "cityblock_numba0 = numba.jit(nopython=True)(cityblock_python)\n",
    "\n",
    "\n",
    "@numba.jit(nopython=True, parallel=True)\n",
    "def cityblock_numba1(x, y):\n",
    "    \"\"\"Implementation with numba.\"\"\"\n",
    "\n",
    "    nrow, ncol = x.shape\n",
    "    dist_matrix = np.empty((nrow, nrow))\n",
    "    for i in range(nrow):\n",
    "        for j in range(nrow):\n",
    "            r = 0.0\n",
    "            for k in numba.prange(ncol):\n",
    "                r += np.abs(x[i][k] - y[j][k])\n",
    "            dist_matrix[i][j] = r\n",
    "\n",
    "    return dist_matrix\n",
    "\n",
    "\n",
    "@numba.jit(nopython=True, parallel=True)\n",
    "def cityblock_numba2(x, y):\n",
    "    \"\"\"Implementation with numba and numpy.\"\"\"\n",
    "\n",
    "    nrow, ncol = x.shape\n",
    "    dist_matrix = np.empty((nrow, nrow))\n",
    "    for i in range(nrow):\n",
    "        for j in numba.prange(nrow):\n",
    "            dist_matrix[i][j] = np.linalg.norm(x[i] - y[j], 1)\n",
    "\n",
    "    return dist_matrix"
   ]
  },
  {
   "cell_type": "markdown",
   "metadata": {},
   "source": [
    "### Note\n",
    "Observe that the inner loop, which is a reduction, is done with `numba.prange`. `numba.prange` automatically takes care of data privatization and reductions."
   ]
  },
  {
   "cell_type": "code",
   "execution_count": 5,
   "metadata": {},
   "outputs": [
    {
     "name": "stdout",
     "output_type": "stream",
     "text": [
      "True\n",
      "True\n",
      "True\n"
     ]
    }
   ],
   "source": [
    "# Let's check that they all give the same result\n",
    "rng = np.random.default_rng()\n",
    "x = 10. * rng.random((100, 10))\n",
    "\n",
    "print(np.allclose(cityblock_python(x, x), cityblock_numba0(x, x)))\n",
    "print(np.allclose(cityblock_python(x, x), cityblock_numba1(x, x)))\n",
    "print(np.allclose(cityblock_python(x, x), cityblock_numba2(x, x)))"
   ]
  },
  {
   "cell_type": "code",
   "execution_count": 6,
   "metadata": {},
   "outputs": [
    {
     "name": "stdout",
     "output_type": "stream",
     "text": [
      "1.62 s ± 71.2 ms per loop (mean ± std. dev. of 7 runs, 1 loop each)\n",
      "853 μs ± 4.21 μs per loop (mean ± std. dev. of 7 runs, 1,000 loops each)\n",
      "83.8 ms ± 1.26 ms per loop (mean ± std. dev. of 7 runs, 10 loops each)\n",
      "1.18 ms ± 32.7 μs per loop (mean ± std. dev. of 7 runs, 1,000 loops each)\n"
     ]
    }
   ],
   "source": [
    "nrow = 200\n",
    "ncol = 25\n",
    "\n",
    "x = 10. * rng.random((nrow, ncol))\n",
    "\n",
    "%timeit cityblock_python(x, x)\n",
    "%timeit cityblock_numba0(x, x)\n",
    "%timeit cityblock_numba1(x, x)\n",
    "%timeit cityblock_numba2(x, x)"
   ]
  },
  {
   "cell_type": "markdown",
   "metadata": {},
   "source": [
    "### Exercise 1\n",
    "How do you explain the difference in execution times?"
   ]
  },
  {
   "cell_type": "markdown",
   "metadata": {},
   "source": [
    "## Conclusions\n",
    "\n",
    "In cases where there's no possibility to do an implementation with NumPy vectorized operations, it's worth to give a try to Numba. It offers a significant improvement in performance compared to pure python, specially in situations where loops are unavoidable.\n",
    "\n",
    "As we have seen, the speedup doesn't come completelly for free: the way the python function is implmented is crucial to obtain a good performance from Numba. Consider different implementations with and without NumPy operations and measure their execution time."
   ]
  },
  {
   "cell_type": "markdown",
   "metadata": {},
   "source": [
    "#### Synchronizing Numba and NumPy RNG States for Consistent Behavior\n",
    "\n",
    "The Numba and NumPy random number generator (RNG) states are completely separate. As a result, calling `np.random.seed()` only affects the NumPy RNG seed. To synchronize Numba's RNG state with NumPy's, `np.random.seed()` must be called within a JIT-compiled region, for example:\"\n",
    "\n",
    "executing the script should produce the same chain of random numbers.\n"
   ]
  },
  {
   "cell_type": "code",
   "execution_count": 12,
   "metadata": {},
   "outputs": [
    {
     "name": "stdout",
     "output_type": "stream",
     "text": [
      "[0.37454012 0.95071431 0.73199394]\n",
      "[0.37454012 0.95071431 0.73199394]\n",
      "[0.59865848 0.15601864 0.15599452]\n"
     ]
    }
   ],
   "source": [
    "import numpy as np \n",
    "from numba import jit \n",
    "from numba.extending import register_jitable\n",
    "\n",
    "# This will run in JIT mode only if called from a JIT function\n",
    "@register_jitable\n",
    "def set_seed_compact(x):\n",
    "    np.random.seed(x)\n",
    "    \n",
    "@jit(nopython=True)\n",
    "def get_random():\n",
    "    set_seed_compact(42)\n",
    "    print(np.random.rand(3))\n",
    "    \n",
    "def get_random2():\n",
    "    print(np.random.rand(3))\n",
    "    \n",
    "get_random()\n",
    "get_random.py_func()\n",
    "get_random2()"
   ]
  },
  {
   "cell_type": "code",
   "execution_count": null,
   "metadata": {},
   "outputs": [],
   "source": []
  }
 ],
 "metadata": {
  "language_info": {
   "name": "python"
  }
 },
 "nbformat": 4,
 "nbformat_minor": 4
}
