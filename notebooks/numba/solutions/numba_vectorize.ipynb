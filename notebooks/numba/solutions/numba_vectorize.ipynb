{
 "cells": [
  {
   "cell_type": "markdown",
   "metadata": {
    "slideshow": {
     "slide_type": "slide"
    }
   },
   "source": [
    "#  Numba vectorize\n",
    "\n",
    "<div class=\"dateauthor\">\n",
    "21 June 2022 | Jan H. Meinke\n",
    "</div>"
   ]
  },
  {
   "cell_type": "markdown",
   "metadata": {
    "slideshow": {
     "slide_type": "notes"
    }
   },
   "source": [
    "Numba offers a decorator `@vectorize` that allows us to generate **fast** [ufuncs](https://numpy.org/doc/stable/reference/ufuncs.html). "
   ]
  },
  {
   "cell_type": "code",
   "execution_count": 1,
   "metadata": {},
   "outputs": [],
   "source": [
    "import numba\n",
    "import numpy\n",
    "import numpy as np\n",
    "import matplotlib.pyplot as plt"
   ]
  },
  {
   "cell_type": "markdown",
   "metadata": {
    "slideshow": {
     "slide_type": "slide"
    }
   },
   "source": [
    "## A simple trig function"
   ]
  },
  {
   "cell_type": "markdown",
   "metadata": {
    "slideshow": {
     "slide_type": "skip"
    }
   },
   "source": [
    "Let's implement a simple trig function:"
   ]
  },
  {
   "cell_type": "code",
   "execution_count": 2,
   "metadata": {},
   "outputs": [],
   "source": [
    "import math"
   ]
  },
  {
   "cell_type": "code",
   "execution_count": 3,
   "metadata": {},
   "outputs": [],
   "source": [
    "def sinacosb(a, b):\n",
    "    \"\"\"Calculate the product of sin(a) and cos(b)\"\"\"\n",
    "    return math.sin(a) * math.cos(b)"
   ]
  },
  {
   "cell_type": "markdown",
   "metadata": {
    "slideshow": {
     "slide_type": "slide"
    }
   },
   "source": [
    "## Passing numpy arrays as arguments"
   ]
  },
  {
   "cell_type": "code",
   "execution_count": 4,
   "metadata": {},
   "outputs": [],
   "source": [
    "n = 1000000\n",
    "a = np.ones(n, dtype='int8')\n",
    "b = 2 * a"
   ]
  },
  {
   "cell_type": "code",
   "execution_count": 5,
   "metadata": {},
   "outputs": [],
   "source": [
    "# sinacosb(a,b)"
   ]
  },
  {
   "cell_type": "markdown",
   "metadata": {
    "slideshow": {
     "slide_type": "notes"
    }
   },
   "source": [
    "The function sinasinb is only defined for scalars, so we have to do something if we want to pass an array."
   ]
  },
  {
   "cell_type": "markdown",
   "metadata": {
    "slideshow": {
     "slide_type": "slide"
    }
   },
   "source": [
    "## numpy.vectorize"
   ]
  },
  {
   "cell_type": "markdown",
   "metadata": {
    "slideshow": {
     "slide_type": "notes"
    }
   },
   "source": [
    "NumPy provides the function `vectorize`."
   ]
  },
  {
   "cell_type": "code",
   "execution_count": 6,
   "metadata": {},
   "outputs": [],
   "source": [
    "npsinacosb = np.vectorize(sinacosb)"
   ]
  },
  {
   "cell_type": "code",
   "execution_count": null,
   "metadata": {},
   "outputs": [],
   "source": [
    "%timeit npsinacosb(a,b)"
   ]
  },
  {
   "cell_type": "markdown",
   "metadata": {
    "slideshow": {
     "slide_type": "slide"
    }
   },
   "source": [
    "## numba.vectorize"
   ]
  },
  {
   "cell_type": "markdown",
   "metadata": {
    "slideshow": {
     "slide_type": "subslide"
    }
   },
   "source": [
    "### Dynamic ufuncs"
   ]
  },
  {
   "cell_type": "code",
   "execution_count": 8,
   "metadata": {},
   "outputs": [],
   "source": [
    "usinacosb = numba.vectorize(sinacosb)"
   ]
  },
  {
   "cell_type": "code",
   "execution_count": null,
   "metadata": {},
   "outputs": [],
   "source": [
    "%timeit usinacosb(a,b)"
   ]
  },
  {
   "cell_type": "markdown",
   "metadata": {
    "slideshow": {
     "slide_type": "notes"
    }
   },
   "source": [
    "The function usinacosb is a *dynamic ufunc*. The arguments are determined when the function is called and only then is the function compiled."
   ]
  },
  {
   "cell_type": "markdown",
   "metadata": {
    "slideshow": {
     "slide_type": "slide"
    }
   },
   "source": [
    "### Eager compilation"
   ]
  },
  {
   "cell_type": "markdown",
   "metadata": {
    "slideshow": {
     "slide_type": "notes"
    }
   },
   "source": [
    "Assume, we know with what kind of arguments a function is called, then numba can generate code as soon as we call numba vectorize. The decorator can take a list of [type specification](https://numba.readthedocs.io/en/stable/reference/types.html#signatures) strings of the form \"f8(f8, f8)\", where the type before the parentheses is the return type and the types within the parentheses are the argument types."
   ]
  },
  {
   "cell_type": "code",
   "execution_count": 10,
   "metadata": {},
   "outputs": [],
   "source": [
    "@numba.vectorize(['f8(i8,i8)', 'f4(f4,f4)', 'f8(f8,f8)'], nopython=True)\n",
    "def usinacosb(a,b):\n",
    "    return math.sin(a) * math.cos(b)"
   ]
  },
  {
   "cell_type": "markdown",
   "metadata": {
    "slideshow": {
     "slide_type": "slide"
    }
   },
   "source": [
    "### target"
   ]
  },
  {
   "cell_type": "markdown",
   "metadata": {
    "slideshow": {
     "slide_type": "notes"
    }
   },
   "source": [
    "If I use eager compilation I can give an addition keyword argument: *target*."
   ]
  },
  {
   "cell_type": "markdown",
   "metadata": {
    "slideshow": {
     "slide_type": "fragment"
    }
   },
   "source": [
    "target=\"cpu\": default, run in a single thread on the CPU"
   ]
  },
  {
   "cell_type": "markdown",
   "metadata": {
    "slideshow": {
     "slide_type": "fragment"
    }
   },
   "source": [
    "target=\"parallel\": run in multiple threads"
   ]
  },
  {
   "cell_type": "markdown",
   "metadata": {
    "slideshow": {
     "slide_type": "fragment"
    }
   },
   "source": [
    "target=\"cuda\": run on a CUDA-capable GPU"
   ]
  },
  {
   "cell_type": "code",
   "execution_count": 11,
   "metadata": {},
   "outputs": [],
   "source": [
    "numba.set_num_threads(2)"
   ]
  },
  {
   "cell_type": "code",
   "execution_count": 12,
   "metadata": {},
   "outputs": [],
   "source": [
    "pusinacosb = numba.vectorize(['f8(i8,i8)', 'f4(f4,f4)', 'f8(f8,f8)', ], nopython=True, target=\"parallel\")(sinacosb)"
   ]
  },
  {
   "cell_type": "code",
   "execution_count": null,
   "metadata": {},
   "outputs": [],
   "source": [
    "%timeit pusinacosb(a,b)"
   ]
  },
  {
   "cell_type": "code",
   "execution_count": 14,
   "metadata": {},
   "outputs": [],
   "source": [
    "n = 100_000_000\n",
    "a = np.ones(n, dtype='int8')\n",
    "b = 2 * a"
   ]
  },
  {
   "cell_type": "code",
   "execution_count": null,
   "metadata": {},
   "outputs": [],
   "source": [
    "%timeit usinacosb(a, b)\n",
    "%timeit pusinacosb(a, b) "
   ]
  },
  {
   "cell_type": "markdown",
   "metadata": {
    "slideshow": {
     "slide_type": "slide"
    }
   },
   "source": [
    "## Exercise: The Mandelbrot set"
   ]
  },
  {
   "cell_type": "markdown",
   "metadata": {
    "slideshow": {
     "slide_type": "notes"
    }
   },
   "source": [
    "The Mandelbrot set is the set of points *c* in the complex plane for which"
   ]
  },
  {
   "cell_type": "markdown",
   "metadata": {},
   "source": [
    "$$z_{i+1} = z_i^2 + c$$"
   ]
  },
  {
   "cell_type": "markdown",
   "metadata": {
    "slideshow": {
     "slide_type": "notes"
    }
   },
   "source": [
    "does not diverge.\n",
    "\n",
    "The series diverges if $|z_i|>2$ for any *i*."
   ]
  },
  {
   "cell_type": "markdown",
   "metadata": {
    "slideshow": {
     "slide_type": "notes"
    }
   },
   "source": [
    "Since it is impracticable to calculate an infinite number of iterations, one usually sets an upper limit for the number of iterations, for example, 20."
   ]
  },
  {
   "cell_type": "markdown",
   "metadata": {
    "slideshow": {
     "slide_type": "slide"
    }
   },
   "source": [
    "### Escape time algorithm"
   ]
  },
  {
   "cell_type": "markdown",
   "metadata": {
    "slideshow": {
     "slide_type": "notes"
    }
   },
   "source": [
    "A simple implementation of this algorithm is the following:"
   ]
  },
  {
   "cell_type": "code",
   "execution_count": 16,
   "metadata": {},
   "outputs": [],
   "source": [
    "def escape_time(p, maxtime):\n",
    "    \"\"\"Perform the Mandelbrot iteration until it's clear that p diverges\n",
    "    or the maximum number of iterations has been reached.\n",
    "    \n",
    "    Parameters\n",
    "    ----------\n",
    "    p: complex\n",
    "        point in the complex plane\n",
    "    maxtime: int\n",
    "        maximum number of iterations to perform before p is considered in \n",
    "        the Mandelbrot set.\n",
    "    \"\"\"\n",
    "    z = 0j\n",
    "    for i in range(maxtime):\n",
    "        z = z ** 2 + p\n",
    "        if abs(z) > 2:\n",
    "            return i\n",
    "    return maxtime"
   ]
  },
  {
   "cell_type": "markdown",
   "metadata": {
    "slideshow": {
     "slide_type": "subslide"
    }
   },
   "source": [
    "### Todo:\n",
    "\n",
    "1. Generate a grid of size n times m of complex numbers with the real part taken from the interval [-2.2, 1.5] and the imaginary part taken from the interval [-1.5, 1.5]. Hint, numpy.meshgrid can help.\n",
    "\n",
    "2. Vectorize escape_time using numba.vectorize and apply it to the array above. Note, the  output is an integer.\n",
    "\n",
    "3. Visualize the generated array using matplotlib.pyplot.imshow. \n"
   ]
  },
  {
   "cell_type": "code",
   "execution_count": 17,
   "metadata": {},
   "outputs": [],
   "source": [
    "# Solution 1. (c.f. Think Vector)\n",
    "# Let's take the same ranges for real and imaginary numbers as before\n",
    "re = numpy.linspace(-2.2, 1, 640)\n",
    "im = numpy.linspace(-1.2j, 1.2j, 480)\n",
    "# X and Y will have a shape of (640, 480) with the values taken from re and im.\n",
    "X, Y = numpy.meshgrid(re, im)\n",
    "# Finally, add X and Y to get our grid\n",
    "P = X + Y"
   ]
  },
  {
   "cell_type": "code",
   "execution_count": 18,
   "metadata": {},
   "outputs": [],
   "source": [
    "# Solution 2.\n",
    "escape_time_vec = numba.vectorize(escape_time) \n",
    "M = escape_time_vec(P, 50)"
   ]
  },
  {
   "cell_type": "code",
   "execution_count": null,
   "metadata": {},
   "outputs": [],
   "source": [
    "plt.imshow(M)"
   ]
  },
  {
   "cell_type": "code",
   "execution_count": null,
   "metadata": {},
   "outputs": [],
   "source": [
    "%timeit M = escape_time_vec(P, 50)"
   ]
  },
  {
   "cell_type": "code",
   "execution_count": null,
   "metadata": {},
   "outputs": [],
   "source": []
  }
 ],
 "metadata": {
  "language_info": {
   "name": "python"
  }
 },
 "nbformat": 4,
 "nbformat_minor": 4
}
