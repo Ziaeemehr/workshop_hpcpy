{
 "cells": [
  {
   "cell_type": "markdown",
   "metadata": {},
   "source": [
    "## [Deep learning with JAX](https://github.com/che-shr-cat/JAX-in-Action)\n",
    "- Chapter 6: Vectorizing your code"
   ]
  },
  {
   "cell_type": "code",
   "execution_count": 1,
   "metadata": {},
   "outputs": [
    {
     "name": "stdout",
     "output_type": "stream",
     "text": [
      "number of cores: 8\n",
      "using:  cpu\n"
     ]
    }
   ],
   "source": [
    "import os\n",
    "os.environ[\"XLA_FLAGS\"] = \"--xla_force_host_platform_device_count=8\"\n",
    "\n",
    "import jax\n",
    "from jax import random\n",
    "from jax.extend import backend  \n",
    "jax.config.update(\"jax_enable_x64\", True)\n",
    "jax.config.update(\"jax_platform_name\", \"cpu\")\n",
    "from jax import numpy as jnp\n",
    "\n",
    "print(f\"number of cores:\", jax.local_device_count())\n",
    "print(f\"using: \", backend.get_backend().platform) "
   ]
  },
  {
   "cell_type": "code",
   "execution_count": 2,
   "metadata": {},
   "outputs": [
    {
     "data": {
      "text/plain": [
       "Array(2., dtype=float64)"
      ]
     },
     "execution_count": 2,
     "metadata": {},
     "output_type": "execute_result"
    }
   ],
   "source": [
    "def dot(v1, v2):\n",
    "    return jax.numpy.dot(v1, v2)\n",
    "\n",
    "dot(jax.numpy.array([1.0, 1, 1]), jax.numpy.array([1, 2,-1]))"
   ]
  },
  {
   "cell_type": "code",
   "execution_count": 8,
   "metadata": {},
   "outputs": [
    {
     "data": {
      "text/plain": [
       "((5000, 3), (5000, 3))"
      ]
     },
     "execution_count": 8,
     "metadata": {},
     "output_type": "execute_result"
    }
   ],
   "source": [
    "from jax import random\n",
    "rng_key = random.PRNGKey(42)\n",
    "\n",
    "# vs = random.normal(rng_key, shape=(10000,3))\n",
    "vs = jnp.ones((10000,3))\n",
    "vs = vs.at[:,1].set(2)\n",
    "vs = vs.at[:,2].set(3)\n",
    "v1s = vs[:5000, :]\n",
    "v2s = vs[5000:, :]\n",
    "v1s.shape, v2s.shape"
   ]
  },
  {
   "cell_type": "code",
   "execution_count": 9,
   "metadata": {},
   "outputs": [
    {
     "data": {
      "text/plain": [
       "Array([[1., 2., 3.],\n",
       "       [1., 2., 3.],\n",
       "       [1., 2., 3.],\n",
       "       [1., 2., 3.],\n",
       "       [1., 2., 3.]], dtype=float64)"
      ]
     },
     "execution_count": 9,
     "metadata": {},
     "output_type": "execute_result"
    }
   ],
   "source": [
    "v1s[:5, :]"
   ]
  },
  {
   "cell_type": "code",
   "execution_count": 10,
   "metadata": {},
   "outputs": [
    {
     "data": {
      "text/plain": [
       "((5000, 5000), (3, 3))"
      ]
     },
     "execution_count": 10,
     "metadata": {},
     "output_type": "execute_result"
    }
   ],
   "source": [
    "vs.shape, v1s.shape, v2s.shape\n",
    "dot(v1s, v2s.T).shape, dot(v1s.T, v2s).shape"
   ]
  },
  {
   "cell_type": "code",
   "execution_count": 11,
   "metadata": {},
   "outputs": [
    {
     "data": {
      "text/plain": [
       "Array([1., 2., 3.], dtype=float64)"
      ]
     },
     "execution_count": 11,
     "metadata": {},
     "output_type": "execute_result"
    }
   ],
   "source": [
    "v1s[0][:5]"
   ]
  },
  {
   "cell_type": "markdown",
   "metadata": {},
   "source": [
    "### Using List"
   ]
  },
  {
   "cell_type": "code",
   "execution_count": 12,
   "metadata": {},
   "outputs": [
    {
     "data": {
      "text/plain": [
       "[Array(14., dtype=float64),\n",
       " Array(14., dtype=float64),\n",
       " Array(14., dtype=float64),\n",
       " Array(14., dtype=float64),\n",
       " Array(14., dtype=float64)]"
      ]
     },
     "execution_count": 12,
     "metadata": {},
     "output_type": "execute_result"
    }
   ],
   "source": [
    "# [dot(v1s[i], v2s[i]) for i in range(v1s.shape[0])]\n",
    "data = [dot(v1, v2) for v1, v2 in zip(v1s, v2s)]\n",
    "data[:5]"
   ]
  },
  {
   "cell_type": "markdown",
   "metadata": {},
   "source": [
    "### Manual Vectorization"
   ]
  },
  {
   "cell_type": "code",
   "execution_count": 13,
   "metadata": {},
   "outputs": [
    {
     "data": {
      "text/plain": [
       "((5000,), Array([14., 14., 14., 14., 14.], dtype=float64))"
      ]
     },
     "execution_count": 13,
     "metadata": {},
     "output_type": "execute_result"
    }
   ],
   "source": [
    "def dot_vectorized(v1s, v2s):\n",
    "    return jnp.einsum(\"ij,ij->i\", v1s, v2s)\n",
    "\n",
    "r = dot_vectorized(v1s, v2s)\n",
    "r.shape, r[:5]"
   ]
  },
  {
   "cell_type": "markdown",
   "metadata": {},
   "source": [
    "### Automatic vectorization"
   ]
  },
  {
   "cell_type": "code",
   "execution_count": 14,
   "metadata": {},
   "outputs": [
    {
     "data": {
      "text/plain": [
       "((5000,), Array([14., 14., 14., 14., 14.], dtype=float64))"
      ]
     },
     "execution_count": 14,
     "metadata": {},
     "output_type": "execute_result"
    }
   ],
   "source": [
    "dot_vmapped = jax.vmap(dot)\n",
    "r = dot_vmapped(v1s, v2s)\n",
    "r.shape, r[:5]"
   ]
  },
  {
   "cell_type": "code",
   "execution_count": 15,
   "metadata": {},
   "outputs": [],
   "source": [
    "dot_vectorized_jitted = jax.jit(dot_vectorized)\n",
    "dot_vmapped_jitted = jax.jit(dot_vmapped)"
   ]
  },
  {
   "cell_type": "markdown",
   "metadata": {},
   "source": [
    "#### timig list, manual and automatic vectorization"
   ]
  },
  {
   "cell_type": "code",
   "execution_count": 16,
   "metadata": {},
   "outputs": [
    {
     "name": "stdout",
     "output_type": "stream",
     "text": [
      "100 ms ± 3.31 ms per loop (mean ± std. dev. of 7 runs, 10 loops each)\n",
      "283 μs ± 23.3 μs per loop (mean ± std. dev. of 7 runs, 1,000 loops each)\n",
      "371 μs ± 15.1 μs per loop (mean ± std. dev. of 7 runs, 1,000 loops each)\n"
     ]
    }
   ],
   "source": [
    "%timeit [dot(v1, v2) for v1, v2 in zip(v1s, v2s)]    # list comprehension\n",
    "%timeit dot_vectorized(v1s, v2s).block_until_ready() # manual\n",
    "%timeit dot_vmapped(v1s, v2s).block_until_ready()    # automatic"
   ]
  },
  {
   "cell_type": "code",
   "execution_count": 17,
   "metadata": {},
   "outputs": [
    {
     "name": "stdout",
     "output_type": "stream",
     "text": [
      "43.7 μs ± 2.56 μs per loop (mean ± std. dev. of 7 runs, 10,000 loops each)\n",
      "42.9 μs ± 1.44 μs per loop (mean ± std. dev. of 7 runs, 10,000 loops each)\n"
     ]
    }
   ],
   "source": [
    "%timeit dot_vectorized_jitted(v1s, v2s).block_until_ready()\n",
    "%timeit dot_vmapped_jitted(v1s, v2s).block_until_ready()"
   ]
  },
  {
   "cell_type": "code",
   "execution_count": 18,
   "metadata": {},
   "outputs": [
    {
     "data": {
      "text/plain": [
       "{ \u001b[34m\u001b[22m\u001b[1mlambda \u001b[39m\u001b[22m\u001b[22m; a\u001b[35m:f64[3]\u001b[39m b\u001b[35m:i64[3]\u001b[39m. \u001b[34m\u001b[22m\u001b[1mlet\n",
       "    \u001b[39m\u001b[22m\u001b[22mc\u001b[35m:f64[]\u001b[39m = dot_general[\n",
       "      dimension_numbers=(([0], [0]), ([], []))\n",
       "      preferred_element_type=float64\n",
       "    ] a b\n",
       "  \u001b[34m\u001b[22m\u001b[1min \u001b[39m\u001b[22m\u001b[22m(c,) }"
      ]
     },
     "execution_count": 18,
     "metadata": {},
     "output_type": "execute_result"
    }
   ],
   "source": [
    "jax.make_jaxpr(dot)(jnp.array([1.0, 1, 1]), jnp.array([1, 2,-1]))"
   ]
  },
  {
   "cell_type": "code",
   "execution_count": 19,
   "metadata": {},
   "outputs": [
    {
     "data": {
      "text/plain": [
       "{ \u001b[34m\u001b[22m\u001b[1mlambda \u001b[39m\u001b[22m\u001b[22m; a\u001b[35m:f64[5000,3]\u001b[39m b\u001b[35m:f64[5000,3]\u001b[39m. \u001b[34m\u001b[22m\u001b[1mlet\n",
       "    \u001b[39m\u001b[22m\u001b[22mc\u001b[35m:f64[5000]\u001b[39m = dot_general[\n",
       "      dimension_numbers=(([1], [1]), ([0], [0]))\n",
       "      preferred_element_type=float64\n",
       "    ] a b\n",
       "  \u001b[34m\u001b[22m\u001b[1min \u001b[39m\u001b[22m\u001b[22m(c,) }"
      ]
     },
     "execution_count": 19,
     "metadata": {},
     "output_type": "execute_result"
    }
   ],
   "source": [
    "jax.make_jaxpr(dot_vectorized)(v1s, v2s)"
   ]
  },
  {
   "cell_type": "code",
   "execution_count": 20,
   "metadata": {},
   "outputs": [
    {
     "data": {
      "text/plain": [
       "{ \u001b[34m\u001b[22m\u001b[1mlambda \u001b[39m\u001b[22m\u001b[22m; a\u001b[35m:f64[5000,3]\u001b[39m b\u001b[35m:f64[5000,3]\u001b[39m. \u001b[34m\u001b[22m\u001b[1mlet\n",
       "    \u001b[39m\u001b[22m\u001b[22mc\u001b[35m:f64[5000]\u001b[39m = dot_general[\n",
       "      dimension_numbers=(([1], [1]), ([0], [0]))\n",
       "      preferred_element_type=float64\n",
       "    ] a b\n",
       "  \u001b[34m\u001b[22m\u001b[1min \u001b[39m\u001b[22m\u001b[22m(c,) }"
      ]
     },
     "execution_count": 20,
     "metadata": {},
     "output_type": "execute_result"
    }
   ],
   "source": [
    "jax.make_jaxpr(dot_vmapped)(v1s, v2s)"
   ]
  },
  {
   "cell_type": "code",
   "execution_count": 21,
   "metadata": {},
   "outputs": [
    {
     "data": {
      "text/plain": [
       "{ \u001b[34m\u001b[22m\u001b[1mlambda \u001b[39m\u001b[22m\u001b[22m; a\u001b[35m:f64[5000,3]\u001b[39m b\u001b[35m:f64[5000,3]\u001b[39m. \u001b[34m\u001b[22m\u001b[1mlet\n",
       "    \u001b[39m\u001b[22m\u001b[22mc\u001b[35m:f64[5000]\u001b[39m = pjit[\n",
       "      name=dot_vectorized\n",
       "      jaxpr={ \u001b[34m\u001b[22m\u001b[1mlambda \u001b[39m\u001b[22m\u001b[22m; d\u001b[35m:f64[5000,3]\u001b[39m e\u001b[35m:f64[5000,3]\u001b[39m. \u001b[34m\u001b[22m\u001b[1mlet\n",
       "          \u001b[39m\u001b[22m\u001b[22mf\u001b[35m:f64[5000]\u001b[39m = dot_general[\n",
       "            dimension_numbers=(([1], [1]), ([0], [0]))\n",
       "            preferred_element_type=float64\n",
       "          ] d e\n",
       "        \u001b[34m\u001b[22m\u001b[1min \u001b[39m\u001b[22m\u001b[22m(f,) }\n",
       "    ] a b\n",
       "  \u001b[34m\u001b[22m\u001b[1min \u001b[39m\u001b[22m\u001b[22m(c,) }"
      ]
     },
     "execution_count": 21,
     "metadata": {},
     "output_type": "execute_result"
    }
   ],
   "source": [
    "jax.make_jaxpr(dot_vectorized_jitted)(v1s, v2s)"
   ]
  },
  {
   "cell_type": "markdown",
   "metadata": {},
   "source": [
    "Controlling array axes to map over"
   ]
  },
  {
   "cell_type": "code",
   "execution_count": 22,
   "metadata": {},
   "outputs": [
    {
     "data": {
      "text/plain": [
       "{ \u001b[34m\u001b[22m\u001b[1mlambda \u001b[39m\u001b[22m\u001b[22m; a\u001b[35m:f64[5000,3]\u001b[39m b\u001b[35m:f64[5000,3]\u001b[39m. \u001b[34m\u001b[22m\u001b[1mlet\n",
       "    \u001b[39m\u001b[22m\u001b[22mc\u001b[35m:f64[5000]\u001b[39m = pjit[\n",
       "      name=dot\n",
       "      jaxpr={ \u001b[34m\u001b[22m\u001b[1mlambda \u001b[39m\u001b[22m\u001b[22m; d\u001b[35m:f64[5000,3]\u001b[39m e\u001b[35m:f64[5000,3]\u001b[39m. \u001b[34m\u001b[22m\u001b[1mlet\n",
       "          \u001b[39m\u001b[22m\u001b[22mf\u001b[35m:f64[5000]\u001b[39m = dot_general[\n",
       "            dimension_numbers=(([1], [1]), ([0], [0]))\n",
       "            preferred_element_type=float64\n",
       "          ] d e\n",
       "        \u001b[34m\u001b[22m\u001b[1min \u001b[39m\u001b[22m\u001b[22m(f,) }\n",
       "    ] a b\n",
       "  \u001b[34m\u001b[22m\u001b[1min \u001b[39m\u001b[22m\u001b[22m(c,) }"
      ]
     },
     "execution_count": 22,
     "metadata": {},
     "output_type": "execute_result"
    }
   ],
   "source": [
    "jax.make_jaxpr(dot_vmapped_jitted)(v1s, v2s)"
   ]
  },
  {
   "cell_type": "markdown",
   "metadata": {},
   "source": [
    "You can control which array axes to map over. For this, the `vmap()` function has a parameter\n",
    "called `in_axes`. This parameter can be an integer, None, or a (possibly nested) standard\n",
    "Python container such as a tuple, list, or dict.\n",
    "\n",
    "If the in_axes parameter is an integer (the default value is 0), then the array axis specified\n",
    "by this number is used to map over all the function arguments. \n",
    "If you need to use a different index for different parameters, you can use a tuple of integers\n",
    "and None’s with a length equal to the number of positional arguments of the original\n",
    "function. The `None` value means we do not map over this particular parameter. The general\n",
    "rule is the `in_axes` structure should correspond to the structure of the associated inputs."
   ]
  },
  {
   "cell_type": "code",
   "execution_count": 23,
   "metadata": {},
   "outputs": [
    {
     "name": "stdout",
     "output_type": "stream",
     "text": [
      "(5000, 3) (5000, 3)\n",
      "(5000,)\n",
      "(3,)\n"
     ]
    }
   ],
   "source": [
    "print(v1s.shape, v2s.shape)\n",
    "print(jax.vmap(dot, in_axes=(0, 0))(v1s, v2s).shape)\n",
    "print(jax.vmap(dot, in_axes=(1, 1))(v1s, v2s).shape)"
   ]
  },
  {
   "cell_type": "code",
   "execution_count": 24,
   "metadata": {},
   "outputs": [
    {
     "name": "stdout",
     "output_type": "stream",
     "text": [
      "[1. 1. 1.]\n",
      "[2. 1. 1.]\n"
     ]
    }
   ],
   "source": [
    "# assignment copies the array, in contrast to numpy\n",
    "x1 = jnp.array([1.0, 1.0, 1.0])\n",
    "x2 = x1 # x1.copy()\n",
    "\n",
    "x2 = x2.at[0].set(2.0)\n",
    "print(x1, x2, sep=\"\\n\")"
   ]
  },
  {
   "cell_type": "code",
   "execution_count": 25,
   "metadata": {},
   "outputs": [
    {
     "data": {
      "text/plain": [
       "((5000, 3), (3, 5000))"
      ]
     },
     "execution_count": 25,
     "metadata": {},
     "output_type": "execute_result"
    }
   ],
   "source": [
    "def scaled_dot(v1, v2, koeff):\n",
    "    return koeff * jnp.dot(v1, v2)\n",
    "\n",
    "v1s_ = v1s \n",
    "v2s_ = v2s.T\n",
    "k = 1.0\n",
    "\n",
    "v1s_.shape, v2s_.shape"
   ]
  },
  {
   "cell_type": "code",
   "execution_count": 26,
   "metadata": {},
   "outputs": [
    {
     "name": "stdout",
     "output_type": "stream",
     "text": [
      "(5000,) [14. 14. 14. 14. 14.]\n"
     ]
    }
   ],
   "source": [
    "scaled_dot_batched = jax.vmap(scaled_dot, in_axes=(0, 1, None))\n",
    "tmp = scaled_dot_batched(v1s_, v2s_, k)\n",
    "print(tmp.shape, tmp[:5])\n"
   ]
  },
  {
   "cell_type": "code",
   "execution_count": 27,
   "metadata": {},
   "outputs": [
    {
     "name": "stdout",
     "output_type": "stream",
     "text": [
      "(5000,) [14. 14. 14. 14. 14.]\n"
     ]
    }
   ],
   "source": [
    "# using the in-axes parameter with Python container.\n",
    "def scaled_dot(data, koeff):\n",
    "    return koeff * jnp.dot(data['a'], data['b'])\n",
    "\n",
    "scaled_dot_batched = jax.vmap(scaled_dot, in_axes=({'a': 0, 'b': 1}, None))\n",
    "tmp = scaled_dot_batched({'a':v1s_, 'b':v2s_}, k)\n",
    "print(tmp.shape, tmp[:5])\n"
   ]
  },
  {
   "cell_type": "markdown",
   "metadata": {},
   "source": [
    "- Using `out_axes` parameter\n",
    "\n",
    "The out_axes parameter specifies where the mapped axis should appear in the output. In this case, `out_axes=1` indicates that the output should have the mapped axis as its second axis (axis 1)."
   ]
  },
  {
   "cell_type": "code",
   "execution_count": 28,
   "metadata": {},
   "outputs": [
    {
     "name": "stdout",
     "output_type": "stream",
     "text": [
      "(5000, 3) (3, 5000)\n"
     ]
    }
   ],
   "source": [
    "def scale(v, koeff):\n",
    "    return koeff * v \n",
    "scale_batched = jax.vmap(scale, in_axes=(0, None), out_axes=1)\n",
    "\n",
    "print(v1s.shape, scale_batched(v1s, 2.0).shape)"
   ]
  },
  {
   "cell_type": "markdown",
   "metadata": {},
   "source": [
    "**using named arguments**\n",
    "There is 2 ways to used named arguments with vmap:\n",
    "1. use `functools.partial`\n",
    "2. broadcast the named arguments to the batch dimension\n"
   ]
  },
  {
   "cell_type": "markdown",
   "metadata": {},
   "source": [
    "1."
   ]
  },
  {
   "cell_type": "code",
   "execution_count": 29,
   "metadata": {},
   "outputs": [
    {
     "data": {
      "text/plain": [
       "(5000, 3)"
      ]
     },
     "execution_count": 29,
     "metadata": {},
     "output_type": "execute_result"
    }
   ],
   "source": [
    "from functools import partial\n",
    "scale2 = partial(scale, koeff=2.0)\n",
    "scale_batched = jax.vmap(scale2, in_axes=0, out_axes=0)\n",
    "scale_batched(v1s).shape"
   ]
  },
  {
   "cell_type": "code",
   "execution_count": 30,
   "metadata": {},
   "outputs": [
    {
     "name": "stdout",
     "output_type": "stream",
     "text": [
      "(3, 5000) [2. 2. 2. 2. 2.]\n"
     ]
    }
   ],
   "source": [
    "# using decorator\n",
    "from functools import partial\n",
    "\n",
    "@partial(jax.vmap, in_axes=(0, None), out_axes=(1))\n",
    "def scale(v, koeff):\n",
    "    return koeff * v\n",
    "\n",
    "tmp = scale(v1s, 2.0)\n",
    "print(tmp.shape, tmp[0, :5])"
   ]
  },
  {
   "cell_type": "markdown",
   "metadata": {},
   "source": [
    "2."
   ]
  },
  {
   "cell_type": "code",
   "execution_count": 33,
   "metadata": {},
   "outputs": [
    {
     "data": {
      "text/plain": [
       "(3, 5000)"
      ]
     },
     "execution_count": 33,
     "metadata": {},
     "output_type": "execute_result"
    }
   ],
   "source": [
    "def scale(v, koeff=1.0):\n",
    "    return koeff * v \n",
    "\n",
    "scale_batched = jax.vmap(scale, in_axes=(0), out_axes=(1))\n",
    "scale_batched(v1s, koeff=jnp.broadcast_to(2.0, (v1s.shape[0],))).shape"
   ]
  },
  {
   "cell_type": "code",
   "execution_count": 34,
   "metadata": {},
   "outputs": [
    {
     "data": {
      "text/plain": [
       "(5000, 3)"
      ]
     },
     "execution_count": 34,
     "metadata": {},
     "output_type": "execute_result"
    }
   ],
   "source": [
    "def scale(v, koeff=1.0):\n",
    "    return koeff * v \n",
    "\n",
    "scale_batched = jax.vmap(scale, in_axes=(0, None), out_axes=0)\n",
    "# scale_batched(v1s, koeff=2.0).shape # error passing keyword argument\n",
    "scale_batched(v1s, 2.0).shape # works"
   ]
  },
  {
   "cell_type": "markdown",
   "metadata": {},
   "source": [
    "#### [using collective operations](https://jax.readthedocs.io/en/latest/jax.lax.html#parallel-operators)"
   ]
  },
  {
   "cell_type": "code",
   "execution_count": 39,
   "metadata": {},
   "outputs": [
    {
     "name": "stdout",
     "output_type": "stream",
     "text": [
      "sum(range(5))=10\n"
     ]
    },
    {
     "data": {
      "text/plain": [
       "Array([0. , 0.1, 0.2, 0.3, 0.4], dtype=float64)"
      ]
     },
     "execution_count": 39,
     "metadata": {},
     "output_type": "execute_result"
    }
   ],
   "source": [
    "print(f\"{sum(range(5))=}\")\n",
    "arr = jnp.array(range(5))\n",
    "norm = jax.vmap(lambda x: x/jax.lax.psum(x, axis_name='batch'), axis_name='batch')\n",
    "norm(arr)"
   ]
  },
  {
   "cell_type": "code",
   "execution_count": 40,
   "metadata": {},
   "outputs": [
    {
     "name": "stdout",
     "output_type": "stream",
     "text": [
      "(10, 100)\n",
      "(10, 100)\n"
     ]
    }
   ],
   "source": [
    "# Augmenting a single element of data\n",
    "\n",
    "from jax import lax\n",
    "\n",
    "add_noise_func = lambda x: x + 10\n",
    "horizontal_flip_func = lambda x: x + 1\n",
    "rotate_func = lambda x: x + 2\n",
    "adjust_colors_func = lambda x: x + 3\n",
    "\n",
    "augmentations = [\n",
    "    add_noise_func, \n",
    "    horizontal_flip_func, \n",
    "    rotate_func, \n",
    "    adjust_colors_func\n",
    "    ]\n",
    "\n",
    "def random_augmentation(image, augmentations, rng_key):\n",
    "    augmentation_index = random.randint(key=rng_key, minval=0, maxval=len(augmentations), shape=())\n",
    "    augmented_image = lax.switch(augmentation_index, augmentations, image)\n",
    "    return augmented_image\n",
    "\n",
    "image = jnp.array(range(100))\n",
    "augmented_image = random_augmentation(image, augmentations, random.PRNGKey(42))\n",
    "\n",
    "images = jnp.repeat(jnp.reshape(image, (1, -1)), 10, axis=0)\n",
    "print(images.shape)\n",
    "\n",
    "rng_keys = random.split(random.PRNGKey(42), len(images))\n",
    "random_augmentation_batch = jax.vmap(random_augmentation, in_axes=(0, None, 0))\n",
    "augmented_images = random_augmentation_batch(images, augmentations, rng_keys)\n",
    "print(augmented_images.shape)"
   ]
  },
  {
   "cell_type": "code",
   "execution_count": 41,
   "metadata": {},
   "outputs": [
    {
     "data": {
      "text/plain": [
       "(32, 2)"
      ]
     },
     "execution_count": 41,
     "metadata": {},
     "output_type": "execute_result"
    }
   ],
   "source": [
    "# Calculating per-sample gradients\n",
    "\n",
    "from jax import grad, vmap, jit \n",
    "import matplotlib.pyplot as plt\n",
    "\n",
    "x = jnp.linspace(0, 10*jnp.pi, num=1000)\n",
    "e = 10*random.normal(random.PRNGKey(42), shape=x.shape)\n",
    "y = 65 +1.8*x + 40 * jnp.cos(x) + e \n",
    "\n",
    "model_parameters = jnp.array([1.0, 1.0])\n",
    "def predict(theta, x):\n",
    "    w, b = theta \n",
    "    return w*x + b\n",
    "\n",
    "def loss_fn(model_parameters, x, y):\n",
    "    y_hat = predict(model_parameters, x)\n",
    "    return (y_hat-y)**2\n",
    "\n",
    "grads_fn = jit(vmap(grad(loss_fn), in_axes=(None, 0, 0)))\n",
    "batch_x, batch_y = x[:32], y[:32]\n",
    "grads_fn(model_parameters, batch_x, batch_y).shape\n",
    "\n",
    "# print(x.shape, y.shape)\n",
    "# plt.plot(x, y)"
   ]
  },
  {
   "cell_type": "markdown",
   "metadata": {},
   "source": [
    "- Vectorizing loops"
   ]
  },
  {
   "cell_type": "code",
   "execution_count": 42,
   "metadata": {},
   "outputs": [
    {
     "name": "stdout",
     "output_type": "stream",
     "text": [
      "[ 1  4  9 16 25]\n"
     ]
    }
   ],
   "source": [
    "import jax\n",
    "import jax.numpy as jnp\n",
    "\n",
    "# Define a function that performs a computation on a single element\n",
    "def compute_element(x):\n",
    "    return x ** 2\n",
    "\n",
    "# Create an array of values\n",
    "values = jnp.array([1, 2, 3, 4, 5])\n",
    "\n",
    "# Vectorize the computation using jax.vmap()\n",
    "vectorized_fn = jax.vmap(compute_element)\n",
    "\n",
    "# Apply the vectorized function to the array of values\n",
    "result = vectorized_fn(values)\n",
    "\n",
    "print(result)\n"
   ]
  }
 ],
 "metadata": {
  "language_info": {
   "name": "python"
  }
 },
 "nbformat": 4,
 "nbformat_minor": 2
}
