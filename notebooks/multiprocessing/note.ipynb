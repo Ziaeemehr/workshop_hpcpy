{
 "cells": [
  {
   "cell_type": "markdown",
   "metadata": {},
   "source": [
    "# Multiprocessing"
   ]
  },
  {
   "cell_type": "markdown",
   "metadata": {},
   "source": [
    "Multiprocessing in Python leverages multiple processes to parallelize computation, with each process having its own memory space. "
   ]
  },
  {
   "cell_type": "code",
   "execution_count": 1,
   "metadata": {},
   "outputs": [
    {
     "name": "stdout",
     "output_type": "stream",
     "text": [
      "ID: ForkPoolWorker-1, num: 0, square: 0 \n",
      "ID: ForkPoolWorker-2, num: 1, square: 1 \n",
      "ID: ForkPoolWorker-3, num: 2, square: 4 \n",
      "ID: ForkPoolWorker-4, num: 3, square: 9 \n",
      "\n",
      "\n",
      "\n",
      "\n"
     ]
    }
   ],
   "source": [
    "from time import sleep\n",
    "import multiprocessing as mp\n",
    "\n",
    "def square(num):\n",
    "    # print the process ID\n",
    "    print(f'ID: {mp.current_process().name}, num: {num}, square: {num * num} \\n')\n",
    "    sleep(1)\n",
    "\n",
    "with mp.Pool(processes=4) as p:\n",
    "    p.map(square, range(4))"
   ]
  },
  {
   "cell_type": "markdown",
   "metadata": {},
   "source": [
    "Storing output in a list"
   ]
  },
  {
   "cell_type": "code",
   "execution_count": 2,
   "metadata": {},
   "outputs": [
    {
     "name": "stdout",
     "output_type": "stream",
     "text": [
      "[0, 1, 4, 9, 16, 25, 36, 49, 64, 81]\n"
     ]
    }
   ],
   "source": [
    "import multiprocessing as mp\n",
    "\n",
    "def square(num):\n",
    "    return num * num\n",
    "\n",
    "with mp.Pool(processes=4) as p:\n",
    "    result =  p.map(square, range(10))\n",
    "print(result)"
   ]
  },
  {
   "cell_type": "markdown",
   "metadata": {},
   "source": [
    "`Pool.apply_async()` allows you to execute a function asynchronously in a separate process"
   ]
  },
  {
   "cell_type": "code",
   "execution_count": 3,
   "metadata": {},
   "outputs": [
    {
     "name": "stdout",
     "output_type": "stream",
     "text": [
      "[0, 1, 1, 2, 4, 5, 9, 10]\n"
     ]
    }
   ],
   "source": [
    "from multiprocessing import Pool\n",
    "\n",
    "\n",
    "def task(n, m):\n",
    "    return n * n + m\n",
    "\n",
    "\n",
    "n = 4\n",
    "\n",
    "with Pool(processes=4) as p:\n",
    "    async_results = [\n",
    "        p.apply_async(task, args=(i, j)) for i in range(n) for j in range(n // 2)\n",
    "    ]\n",
    "    results = [r.get() for r in async_results]\n",
    "print(results)"
   ]
  },
  {
   "cell_type": "code",
   "execution_count": 4,
   "metadata": {},
   "outputs": [
    {
     "name": "stdout",
     "output_type": "stream",
     "text": [
      "0 0 0\n",
      "0 1 1\n",
      "1 0 1\n",
      "1 1 2\n",
      "2 0 4\n",
      "2 1 5\n",
      "3 0 9\n",
      "3 1 10\n"
     ]
    }
   ],
   "source": [
    "for i in range(n):\n",
    "    for j in range(n // 2):\n",
    "        print(i, j, i * i + j)"
   ]
  },
  {
   "cell_type": "markdown",
   "metadata": {},
   "source": [
    "### Adding progress bar"
   ]
  },
  {
   "cell_type": "code",
   "execution_count": 5,
   "metadata": {},
   "outputs": [],
   "source": [
    "# !conda install tqdm -y "
   ]
  },
  {
   "cell_type": "code",
   "execution_count": 6,
   "metadata": {},
   "outputs": [
    {
     "name": "stderr",
     "output_type": "stream",
     "text": [
      "100%|██████████| 20/20 [00:00<00:00, 236298.82it/s]\n"
     ]
    }
   ],
   "source": [
    "import tqdm\n",
    "\n",
    "n = 20\n",
    "\n",
    "with mp.Pool(processes=4) as pool:\n",
    "    results = []\n",
    "    for result in tqdm.tqdm(pool.map(square, range(n)), total=n):\n",
    "        results.append(result)"
   ]
  },
  {
   "cell_type": "code",
   "execution_count": 20,
   "metadata": {},
   "outputs": [
    {
     "name": "stderr",
     "output_type": "stream",
     "text": [
      "Processing:   0%|          | 0/12 [00:00<?, ?it/s]"
     ]
    },
    {
     "name": "stderr",
     "output_type": "stream",
     "text": [
      "Processing: 100%|██████████| 12/12 [00:06<00:00,  2.00it/s]\n"
     ]
    }
   ],
   "source": [
    "import numpy as np\n",
    "\n",
    "\n",
    "def unequal_task(n):\n",
    "    sleep(np.random.randint(1, 4))\n",
    "    return n * n\n",
    "\n",
    "\n",
    "n = 12\n",
    "\n",
    "with mp.Pool(processes=4) as pool:\n",
    "    with tqdm.tqdm(total=n, desc=\"Processing\") as pbar:\n",
    "        async_res = [\n",
    "            pool.apply_async(\n",
    "                unequal_task, \n",
    "                args=(i,), \n",
    "                callback=lambda _: pbar.update(1))\n",
    "            for i in range(n)\n",
    "        ]\n",
    "        results = [res.get() for res in async_res]"
   ]
  },
  {
   "cell_type": "markdown",
   "metadata": {},
   "source": [
    "### Sharing data among processes\n",
    "\n",
    "If you want to share data between processes, Python's multiprocessing module provides mechanisms like Value and Array for shared memory."
   ]
  },
  {
   "cell_type": "code",
   "execution_count": 21,
   "metadata": {},
   "outputs": [
    {
     "name": "stdout",
     "output_type": "stream",
     "text": [
      "Final counter value: 400\n"
     ]
    }
   ],
   "source": [
    "from multiprocessing import Value, Lock\n",
    "\n",
    "def increment(shared_counter, lock):\n",
    "    for _ in range(100):\n",
    "        with lock:\n",
    "            shared_counter.value += 1\n",
    "\n",
    "\n",
    "counter = Value('i', 0)  # Shared integer ('i' for int)\n",
    "lock = Lock()  # Lock to synchronize access to shared data\n",
    "\n",
    "processes = [mp.Process(target=increment, args=(counter, lock)) for _ in range(4)]\n",
    "for p in processes:\n",
    "    p.start()\n",
    "for p in processes:\n",
    "    p.join()\n",
    "\n",
    "print(f\"Final counter value: {counter.value}\")\n"
   ]
  },
  {
   "cell_type": "markdown",
   "metadata": {},
   "source": [
    "### Sharing a List using `Manager`\n",
    "Here’s how you can use a Manager to share a list among multiple processes:"
   ]
  },
  {
   "cell_type": "code",
   "execution_count": 22,
   "metadata": {},
   "outputs": [
    {
     "name": "stdout",
     "output_type": "stream",
     "text": [
      "Process Process-86 appended value 0\n",
      "Process Process-87 appended value 1\n",
      "Process Process-88 appended value 2\n",
      "Process Process-89 appended value 3\n",
      "Final list: [0, 1, 2, 3]\n"
     ]
    }
   ],
   "source": [
    "def append_to_list(shared_list, value):\n",
    "    \"\"\"Append a value to the shared list.\"\"\"\n",
    "    shared_list.append(value)\n",
    "    print(f\"Process {mp.current_process().name} appended value {value}\")\n",
    "\n",
    "\n",
    "with mp.Manager() as manager:\n",
    "    shared_list = manager.list()\n",
    "    processes = [\n",
    "        mp.Process(target=append_to_list, args=(shared_list, i)) for i in range(4)\n",
    "    ]\n",
    "    for p in processes:\n",
    "        p.start()\n",
    "    for p in processes:\n",
    "        p.join()\n",
    "    print(f\"Final list: {shared_list}\")"
   ]
  }
 ],
 "metadata": {
  "kernelspec": {
   "display_name": "hpc",
   "language": "python",
   "name": "python3"
  },
  "language_info": {
   "codemirror_mode": {
    "name": "ipython",
    "version": 3
   },
   "file_extension": ".py",
   "mimetype": "text/x-python",
   "name": "python",
   "nbconvert_exporter": "python",
   "pygments_lexer": "ipython3",
   "version": "3.10.15"
  }
 },
 "nbformat": 4,
 "nbformat_minor": 2
}
