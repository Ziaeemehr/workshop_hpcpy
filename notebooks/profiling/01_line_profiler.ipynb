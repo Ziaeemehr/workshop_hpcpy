{
 "cells": [
  {
   "cell_type": "markdown",
   "metadata": {},
   "source": [
    "# Profiling"
   ]
  },
  {
   "cell_type": "code",
   "execution_count": 1,
   "metadata": {},
   "outputs": [],
   "source": [
    "import numpy as np"
   ]
  },
  {
   "cell_type": "code",
   "execution_count": 2,
   "metadata": {},
   "outputs": [],
   "source": [
    "def euclidean_broadcast(x, y):\n",
    "    \"\"\"Euclidean square distance matrix.\n",
    "    \n",
    "    Inputs:\n",
    "    x: (N, m) numpy array\n",
    "    y: (N, m) numpy array\n",
    "    \n",
    "    Ouput:\n",
    "    (N, N) Euclidean square distance matrix:\n",
    "    r_ij = (x_ij - y_ij)^2\n",
    "    \"\"\"\n",
    "    diff = x[:, np.newaxis, :] - y[np.newaxis, :, :]\n",
    "\n",
    "    return (diff * diff).sum(axis=2)"
   ]
  },
  {
   "cell_type": "code",
   "execution_count": 3,
   "metadata": {},
   "outputs": [],
   "source": [
    "def euclidean_trick(x, y):\n",
    "    \"\"\"Euclidean square distance matrix.\n",
    "    \n",
    "    Inputs:\n",
    "    x: (N, m) numpy array\n",
    "    y: (N, m) numpy array\n",
    "    \n",
    "    Ouput:\n",
    "    (N, N) Euclidean square distance matrix:\n",
    "    r_ij = (x_ij - y_ij)^2\n",
    "    \"\"\"\n",
    "    x2 = np.einsum('ij,ij->i', x, x)[:, np.newaxis]\n",
    "    y2 = np.einsum('ij,ij->i', y, y)[np.newaxis, :]\n",
    "\n",
    "    xy = x @ y.T\n",
    "\n",
    "    return np.abs(x2 + y2 - 2. * xy)"
   ]
  },
  {
   "cell_type": "code",
   "execution_count": 4,
   "metadata": {},
   "outputs": [
    {
     "name": "stdout",
     "output_type": "stream",
     "text": [
      "True\n"
     ]
    }
   ],
   "source": [
    "nrows = 2000\n",
    "ncols = 50\n",
    "\n",
    "rng = np.random.default_rng()\n",
    "x = 10. * rng.random((nrows, ncols))\n",
    "print(np.allclose(euclidean_broadcast(x, x), euclidean_trick(x, x)))"
   ]
  },
  {
   "cell_type": "markdown",
   "metadata": {},
   "source": [
    "### 1. `timeit`"
   ]
  },
  {
   "cell_type": "code",
   "execution_count": 5,
   "metadata": {},
   "outputs": [
    {
     "name": "stdout",
     "output_type": "stream",
     "text": [
      "1.14 s ± 47.1 ms per loop (mean ± std. dev. of 7 runs, 1 loop each)\n",
      "43.1 ms ± 218 μs per loop (mean ± std. dev. of 7 runs, 10 loops each)\n"
     ]
    }
   ],
   "source": [
    "%timeit euclidean_broadcast(x, x)\n",
    "%timeit euclidean_trick(x, x)"
   ]
  },
  {
   "cell_type": "markdown",
   "metadata": {},
   "source": [
    "### 2. `line_profiler`"
   ]
  },
  {
   "cell_type": "code",
   "execution_count": null,
   "metadata": {},
   "outputs": [],
   "source": [
    "# ! conda install conda-forge::line_profiler -y"
   ]
  },
  {
   "cell_type": "code",
   "execution_count": 5,
   "metadata": {},
   "outputs": [],
   "source": [
    "%load_ext line_profiler"
   ]
  },
  {
   "cell_type": "code",
   "execution_count": 7,
   "metadata": {},
   "outputs": [
    {
     "name": "stdout",
     "output_type": "stream",
     "text": [
      "Timer unit: 1e-09 s\n",
      "\n",
      "Total time: 1.15275 s\n",
      "File: /tmp/ipykernel_1731716/3677175976.py\n",
      "Function: euclidean_broadcast at line 1\n",
      "\n",
      "Line #      Hits         Time  Per Hit   % Time  Line Contents\n",
      "==============================================================\n",
      "     1                                           def euclidean_broadcast(x, y):\n",
      "     2                                               \"\"\"Euclidean square distance matrix.\n",
      "     3                                               \n",
      "     4                                               Inputs:\n",
      "     5                                               x: (N, m) numpy array\n",
      "     6                                               y: (N, m) numpy array\n",
      "     7                                               \n",
      "     8                                               Ouput:\n",
      "     9                                               (N, N) Euclidean square distance matrix:\n",
      "    10                                               r_ij = (x_ij - y_ij)^2\n",
      "    11                                               \"\"\"\n",
      "    12         1  549591450.0    5e+08     47.7      diff = x[:, np.newaxis, :] - y[np.newaxis, :, :]\n",
      "    13                                           \n",
      "    14         1  603158237.0    6e+08     52.3      return (diff * diff).sum(axis=2)"
     ]
    }
   ],
   "source": [
    "%lprun -f euclidean_broadcast euclidean_broadcast(x,x)"
   ]
  },
  {
   "cell_type": "code",
   "execution_count": 8,
   "metadata": {},
   "outputs": [
    {
     "name": "stdout",
     "output_type": "stream",
     "text": [
      "Timer unit: 1e-09 s\n",
      "\n",
      "Total time: 0.0565805 s\n",
      "File: /tmp/ipykernel_1731716/2952558958.py\n",
      "Function: euclidean_trick at line 1\n",
      "\n",
      "Line #      Hits         Time  Per Hit   % Time  Line Contents\n",
      "==============================================================\n",
      "     1                                           def euclidean_trick(x, y):\n",
      "     2                                               \"\"\"Euclidean square distance matrix.\n",
      "     3                                               \n",
      "     4                                               Inputs:\n",
      "     5                                               x: (N, m) numpy array\n",
      "     6                                               y: (N, m) numpy array\n",
      "     7                                               \n",
      "     8                                               Ouput:\n",
      "     9                                               (N, N) Euclidean square distance matrix:\n",
      "    10                                               r_ij = (x_ij - y_ij)^2\n",
      "    11                                               \"\"\"\n",
      "    12         1     862188.0 862188.0      1.5      x2 = np.einsum('ij,ij->i', x, x)[:, np.newaxis]\n",
      "    13         1     287841.0 287841.0      0.5      y2 = np.einsum('ij,ij->i', y, y)[np.newaxis, :]\n",
      "    14                                           \n",
      "    15         1   19090610.0    2e+07     33.7      xy = x @ y.T\n",
      "    16                                           \n",
      "    17         1   36339860.0    4e+07     64.2      return np.abs(x2 + y2 - 2. * xy)"
     ]
    }
   ],
   "source": [
    "%lprun -f euclidean_trick euclidean_trick(x, x)"
   ]
  },
  {
   "cell_type": "markdown",
   "metadata": {
    "tags": []
   },
   "source": [
    "### 3. `cProfile`"
   ]
  },
  {
   "cell_type": "code",
   "execution_count": 9,
   "metadata": {},
   "outputs": [
    {
     "name": "stdout",
     "output_type": "stream",
     "text": [
      " "
     ]
    },
    {
     "data": {
      "text/plain": [
       "<pstats.Stats at 0x7f95e0d7e410>"
      ]
     },
     "execution_count": 9,
     "metadata": {},
     "output_type": "execute_result"
    },
    {
     "name": "stdout",
     "output_type": "stream",
     "text": [
      "         18 function calls in 0.051 seconds\n",
      "\n",
      "   Ordered by: internal time\n",
      "\n",
      "   ncalls  tottime  percall  cumtime  percall filename:lineno(function)\n",
      "        1    0.050    0.050    0.051    0.051 2952558958.py:1(euclidean_trick)\n",
      "        2    0.001    0.000    0.001    0.000 {built-in method numpy.core._multiarray_umath.c_einsum}\n",
      "        1    0.001    0.001    0.051    0.051 <string>:1(<module>)\n",
      "        1    0.000    0.000    0.051    0.051 {built-in method builtins.exec}\n",
      "        2    0.000    0.000    0.001    0.000 einsumfunc.py:1009(einsum)\n",
      "       10    0.000    0.000    0.000    0.000 einsumfunc.py:1001(_einsum_dispatcher)\n",
      "        1    0.000    0.000    0.000    0.000 {method 'disable' of '_lsprof.Profiler' objects}"
     ]
    }
   ],
   "source": [
    "%prun -r euclidean_trick(x, x)"
   ]
  },
  {
   "cell_type": "markdown",
   "metadata": {},
   "source": [
    "`Memory profiling`"
   ]
  },
  {
   "cell_type": "code",
   "execution_count": 11,
   "metadata": {},
   "outputs": [],
   "source": [
    "# ! conda install conda-forge::memory_profiler -y"
   ]
  },
  {
   "cell_type": "code",
   "execution_count": 10,
   "metadata": {},
   "outputs": [
    {
     "name": "stdout",
     "output_type": "stream",
     "text": [
      "Filename: /home/ziaee/git/workshops/hpcpy2024/notebooks/profiling/02_memprofiler.py\n",
      "\n",
      "Line #    Mem usage    Increment  Occurrences   Line Contents\n",
      "=============================================================\n",
      "     5     59.8 MiB     59.8 MiB           1   @profile\n",
      "     6                                         def euclidean_trick(x, y):\n",
      "     7                                             \"\"\"Euclidean square distance matrix.\n",
      "     8                                         \n",
      "     9                                             Inputs:\n",
      "    10                                             x: (N, m) numpy array\n",
      "    11                                             y: (N, m) numpy array\n",
      "    12                                         \n",
      "    13                                             Ouput:\n",
      "    14                                             (N, N) Euclidean square distance matrix:\n",
      "    15                                             r_ij = (x_ij - y_ij)^2\n",
      "    16                                             \"\"\"\n",
      "    17     59.8 MiB      0.0 MiB           1       x2 = np.einsum('ij,ij->i', x, x)[:, np.newaxis]\n",
      "    18     59.8 MiB      0.0 MiB           1       y2 = np.einsum('ij,ij->i', y, y)[np.newaxis, :]\n",
      "    19                                         \n",
      "    20     91.5 MiB     31.7 MiB           1       xy = x @ y.T\n",
      "    21                                         \n",
      "    22    122.1 MiB     30.6 MiB           1       return np.abs(x2 + y2 - 2. * xy)\n",
      "\n",
      "\n"
     ]
    }
   ],
   "source": [
    "%%bash \n",
    "python 02_memprofiler.py"
   ]
  },
  {
   "cell_type": "code",
   "execution_count": 11,
   "metadata": {},
   "outputs": [
    {
     "name": "stdout",
     "output_type": "stream",
     "text": [
      "Filename: /home/ziaee/git/workshops/hpcpy2024/notebooks/profiling/03_memprofiler.py\n",
      "\n",
      "Line #    Mem usage    Increment  Occurrences   Line Contents\n",
      "=============================================================\n",
      "     5     60.1 MiB     60.1 MiB           1   @profile\n",
      "     6                                         def euclidean_broadcast(x, y):\n",
      "     7                                             \"\"\"Euclidean square distance matrix.\n",
      "     8                                         \n",
      "     9                                             Inputs:\n",
      "    10                                             x: (N, m) numpy array\n",
      "    11                                             y: (N, m) numpy array\n",
      "    12                                         \n",
      "    13                                             Ouput:\n",
      "    14                                             (N, N) Euclidean square distance matrix:\n",
      "    15                                             r_ij = (x_ij - y_ij)^2\n",
      "    16                                             \"\"\"\n",
      "    17   1586.0 MiB   1526.0 MiB           1       diff = x[:, np.newaxis, :] - y[np.newaxis, :, :]\n",
      "    18                                         \n",
      "    19   1616.7 MiB     30.7 MiB           1       return (diff * diff).sum(axis=2)\n",
      "\n",
      "\n"
     ]
    }
   ],
   "source": [
    "%%bash \n",
    "python 03_memprofiler.py"
   ]
  }
 ],
 "metadata": {
  "kernelspec": {
   "display_name": "hpc",
   "language": "python",
   "name": "python3"
  },
  "language_info": {
   "codemirror_mode": {
    "name": "ipython",
    "version": 3
   },
   "file_extension": ".py",
   "mimetype": "text/x-python",
   "name": "python",
   "nbconvert_exporter": "python",
   "pygments_lexer": "ipython3",
   "version": "3.10.15"
  }
 },
 "nbformat": 4,
 "nbformat_minor": 4
}
