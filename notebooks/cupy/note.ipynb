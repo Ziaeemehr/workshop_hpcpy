{
 "cells": [
  {
   "cell_type": "markdown",
   "metadata": {},
   "source": [
    "# Cupy\n",
    "\n",
    "CuPy is a GPU array backend that implements a subset of NumPy interface. In the following code, `cp` is an abbreviation of `cupy`, following the standard convention of abbreviating `numpy` as `np`:\n",
    "\n",
    "<a href=\"https://colab.research.google.com/github/Ziaeemehr/workshop_hpcpy/blob/main/notebooks/cupy/note.ipynb\" target=\"_parent\"><img src=\"https://colab.research.google.com/assets/colab-badge.svg\" alt=\"Open In Colab\"/></a>"
   ]
  },
  {
   "cell_type": "code",
   "execution_count": null,
   "metadata": {},
   "outputs": [],
   "source": [
    "# only for colab\n",
    "# !pip install chainer"
   ]
  },
  {
   "cell_type": "code",
   "execution_count": null,
   "metadata": {},
   "outputs": [],
   "source": [
    "# only for colab\n",
    "# import chainer\n",
    "# chainer.print_runtime_info()"
   ]
  },
  {
   "cell_type": "code",
   "execution_count": 5,
   "metadata": {},
   "outputs": [],
   "source": [
    "import numpy as np\n",
    "import cupy as cp"
   ]
  },
  {
   "cell_type": "code",
   "execution_count": 25,
   "metadata": {},
   "outputs": [
    {
     "name": "stdout",
     "output_type": "stream",
     "text": [
      "type(x_cpu)=<class 'numpy.ndarray'>\n",
      "type(x_gpu.get())=<class 'numpy.ndarray'>\n",
      "type(x_gpu)=<class 'cupy.ndarray'>\n",
      "x_gpu.dtype=dtype('int64')\n"
     ]
    }
   ],
   "source": [
    "x_cpu = np.array([1, 2, 3])\n",
    "x_gpu = cp.array([1, 2, 3])\n",
    "\n",
    "\n",
    "l2_cpu = np.linalg.norm(x_cpu)\n",
    "l2_gpu = cp.linalg.norm(x_gpu)\n",
    "\n",
    "print(f\"{type(x_cpu)=}\")\n",
    "print(f\"{type(x_gpu.get())=}\")\n",
    "print(f\"{type(x_gpu)=}\") \n",
    "print(f\"{x_gpu.dtype=}\")"
   ]
  },
  {
   "cell_type": "code",
   "execution_count": null,
   "metadata": {},
   "outputs": [],
   "source": [
    "def tohost(x):\n",
    "    '''\n",
    "    move data to cpu\n",
    "    '''\n",
    "    return cp.asnumpy(x)\n",
    "\n",
    "\n",
    "def todevice(x):\n",
    "    '''\n",
    "    move data to gpu\n",
    "    '''\n",
    "    return cp.asarray(x)"
   ]
  },
  {
   "cell_type": "code",
   "execution_count": 4,
   "metadata": {},
   "outputs": [
    {
     "name": "stderr",
     "output_type": "stream",
     "text": [
      "100%|██████████| 20000/20000 [00:19<00:00, 1035.46it/s]\n"
     ]
    }
   ],
   "source": [
    "import tqdm\n",
    "import numpy as np\n",
    "import cupy as cp\n",
    "\n",
    "seed = 2\n",
    "np.random.seed(seed)\n",
    "cp.random.seed(seed)\n",
    "\n",
    "nn = 68\n",
    "SC = cp.random.randn(nn, nn).astype(\"f\")\n",
    "\n",
    "ns = 10_000\n",
    "nt = 20_000\n",
    "dt = 0.01\n",
    "\n",
    "x = cp.random.randn(nn, ns).astype(\"float\")\n",
    "y = cp.random.randn(nn, ns).astype(\"float\")\n",
    "eta = cp.random.randn(nn, ns).astype(\"float\") + 1.01\n",
    "tau = 3.0\n",
    "rtau = 1 / tau\n",
    "\n",
    "xs = []\n",
    "\n",
    "for t in tqdm.trange(nt):\n",
    "\n",
    "    gx = SC @ x  # (nn x nn) (nn x ns) = (nn x ns)\n",
    "    dx = tau * (x - x**3 / 3 + y)\n",
    "    dy = rtau * (eta - x + 1e-2 * gx)\n",
    "    x += dt * dx\n",
    "    y += dt * dy\n",
    "    if t % 1000 == 0:\n",
    "        xs.append(x.get())"
   ]
  },
  {
   "cell_type": "code",
   "execution_count": null,
   "metadata": {},
   "outputs": [],
   "source": []
  }
 ],
 "metadata": {
  "language_info": {
   "name": "python"
  }
 },
 "nbformat": 4,
 "nbformat_minor": 2
}
